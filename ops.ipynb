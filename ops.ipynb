{
 "cells": [
  {
   "cell_type": "code",
   "execution_count": 1,
   "metadata": {},
   "outputs": [],
   "source": [
    "import re\n",
    "import random\n",
    "import requests\n",
    "from requests.exceptions import RequestException\n",
    "from datetime import datetime, timedelta\n",
    "from typing import Optional, Tuple, List\n",
    "\n",
    "import pandas as pd\n",
    "import matplotlib.pyplot as plt"
   ]
  },
  {
   "cell_type": "code",
   "execution_count": 14,
   "metadata": {},
   "outputs": [],
   "source": [
    "PATTERN = r\"^PT(\\d+)H$\"\n",
    "\n",
    "\n",
    "def extract_hours(window: str, pattern: str = PATTERN) -> int:\n",
    "    match = re.match(pattern, window)\n",
    "    if not match:\n",
    "        raise ValueError(f\"Window '{window}' does not match format 'PT(INTEGER)H'.\")\n",
    "    return int(match.group(1))\n",
    "\n",
    "\n",
    "def get_station_measurements(\n",
    "    uuid: str, reference_window: str = \"PT6H\", prediction_window: str = \"PT1H\"\n",
    ") -> Tuple[Optional[pd.DataFrame], Optional[pd.DataFrame]]:\n",
    "    \"\"\"Get the water level measurements for the requested window and the selected uuid (station).\n",
    "\n",
    "    Parameters\n",
    "    ==========\n",
    "    uuid: str\n",
    "        The uuid of the station for which the measurements should be fetched.\n",
    "\n",
    "    reference_window: str\n",
    "        Window to be used to fetch reference data. Note that this\n",
    "        window ends where the prediction_window starts.\n",
    "\n",
    "    prediction_window: str\n",
    "        Window (with respect to the current timestamp) to be\n",
    "        used to fetch data for prediction (anomaly detection).\n",
    "\n",
    "    Returns\n",
    "    =======\n",
    "    A tuple of two pandas dataframes or None.\n",
    "    \"\"\"\n",
    "\n",
    "    current_ts = pd.to_datetime(datetime.now())  # This is already naive\n",
    "    reference_hours = extract_hours(reference_window)\n",
    "    prediction_hours = extract_hours(prediction_window)\n",
    "    overall_window = f\"PT{reference_hours+prediction_hours}H\"\n",
    "\n",
    "    url = (\n",
    "        \"https://www.pegelonline.wsv.de/webservices/rest-api/v2/stations\"\n",
    "        f\"/{uuid}/W/measurements.json?start={overall_window}\"\n",
    "    )\n",
    "    try:\n",
    "        res = requests.get(url)\n",
    "        res.raise_for_status()\n",
    "    except RequestException as e:\n",
    "        return None, None\n",
    "\n",
    "    measurements = res.json()\n",
    "    if not measurements:\n",
    "        return None, None\n",
    "\n",
    "    df = pd.DataFrame(measurements)\n",
    "    ref_cutoff = current_ts - timedelta(hours=prediction_hours)\n",
    "    df[\"timestamp\"] = pd.to_datetime(df[\"timestamp\"]).dt.tz_localize(\n",
    "        None\n",
    "    )  # Ensure DataFrame timestamps are also naive\n",
    "    ref_df = df[df[\"timestamp\"] < ref_cutoff]\n",
    "    pred_df = df[df[\"timestamp\"] >= ref_cutoff]\n",
    "\n",
    "    return ref_df, pred_df"
   ]
  },
  {
   "cell_type": "code",
   "execution_count": null,
   "metadata": {},
   "outputs": [],
   "source": [
    "# Get stations uuid\n",
    "res = requests.get(\n",
    "    f\"https://www.pegelonline.wsv.de/webservices/rest-api/v2/stations.json\"\n",
    ")\n",
    "stations_uuid = [station[\"uuid\"] for station in res.json()]"
   ]
  },
  {
   "cell_type": "code",
   "execution_count": 44,
   "metadata": {},
   "outputs": [],
   "source": [
    "uuid = \"b3492c68-8373-4769-9b29-22f66635a478\"\n",
    "\n",
    "ref_df, pred_df = get_station_measurements(\n",
    "    uuid=uuid, reference_window=\"PT6H\", prediction_window=\"PT1H\"\n",
    ")"
   ]
  },
  {
   "cell_type": "code",
   "execution_count": 45,
   "metadata": {},
   "outputs": [
    {
     "data": {
      "text/html": [
       "<div>\n",
       "<style scoped>\n",
       "    .dataframe tbody tr th:only-of-type {\n",
       "        vertical-align: middle;\n",
       "    }\n",
       "\n",
       "    .dataframe tbody tr th {\n",
       "        vertical-align: top;\n",
       "    }\n",
       "\n",
       "    .dataframe thead th {\n",
       "        text-align: right;\n",
       "    }\n",
       "</style>\n",
       "<table border=\"1\" class=\"dataframe\">\n",
       "  <thead>\n",
       "    <tr style=\"text-align: right;\">\n",
       "      <th></th>\n",
       "      <th>timestamp</th>\n",
       "      <th>value</th>\n",
       "    </tr>\n",
       "  </thead>\n",
       "  <tbody>\n",
       "    <tr>\n",
       "      <th>0</th>\n",
       "      <td>2024-12-15 12:46:00</td>\n",
       "      <td>475.0</td>\n",
       "    </tr>\n",
       "    <tr>\n",
       "      <th>1</th>\n",
       "      <td>2024-12-15 12:47:00</td>\n",
       "      <td>475.0</td>\n",
       "    </tr>\n",
       "    <tr>\n",
       "      <th>2</th>\n",
       "      <td>2024-12-15 12:48:00</td>\n",
       "      <td>475.0</td>\n",
       "    </tr>\n",
       "    <tr>\n",
       "      <th>3</th>\n",
       "      <td>2024-12-15 12:49:00</td>\n",
       "      <td>475.0</td>\n",
       "    </tr>\n",
       "    <tr>\n",
       "      <th>4</th>\n",
       "      <td>2024-12-15 12:50:00</td>\n",
       "      <td>475.0</td>\n",
       "    </tr>\n",
       "  </tbody>\n",
       "</table>\n",
       "</div>"
      ],
      "text/plain": [
       "            timestamp  value\n",
       "0 2024-12-15 12:46:00  475.0\n",
       "1 2024-12-15 12:47:00  475.0\n",
       "2 2024-12-15 12:48:00  475.0\n",
       "3 2024-12-15 12:49:00  475.0\n",
       "4 2024-12-15 12:50:00  475.0"
      ]
     },
     "execution_count": 45,
     "metadata": {},
     "output_type": "execute_result"
    }
   ],
   "source": [
    "ref_df.head()"
   ]
  },
  {
   "cell_type": "code",
   "execution_count": 46,
   "metadata": {},
   "outputs": [
    {
     "data": {
      "text/html": [
       "<div>\n",
       "<style scoped>\n",
       "    .dataframe tbody tr th:only-of-type {\n",
       "        vertical-align: middle;\n",
       "    }\n",
       "\n",
       "    .dataframe tbody tr th {\n",
       "        vertical-align: top;\n",
       "    }\n",
       "\n",
       "    .dataframe thead th {\n",
       "        text-align: right;\n",
       "    }\n",
       "</style>\n",
       "<table border=\"1\" class=\"dataframe\">\n",
       "  <thead>\n",
       "    <tr style=\"text-align: right;\">\n",
       "      <th></th>\n",
       "      <th>timestamp</th>\n",
       "      <th>value</th>\n",
       "    </tr>\n",
       "  </thead>\n",
       "  <tbody>\n",
       "    <tr>\n",
       "      <th>360</th>\n",
       "      <td>2024-12-15 18:47:00</td>\n",
       "      <td>477.0</td>\n",
       "    </tr>\n",
       "    <tr>\n",
       "      <th>361</th>\n",
       "      <td>2024-12-15 18:48:00</td>\n",
       "      <td>477.0</td>\n",
       "    </tr>\n",
       "    <tr>\n",
       "      <th>362</th>\n",
       "      <td>2024-12-15 18:49:00</td>\n",
       "      <td>477.0</td>\n",
       "    </tr>\n",
       "    <tr>\n",
       "      <th>363</th>\n",
       "      <td>2024-12-15 18:50:00</td>\n",
       "      <td>477.0</td>\n",
       "    </tr>\n",
       "    <tr>\n",
       "      <th>364</th>\n",
       "      <td>2024-12-15 18:51:00</td>\n",
       "      <td>477.0</td>\n",
       "    </tr>\n",
       "  </tbody>\n",
       "</table>\n",
       "</div>"
      ],
      "text/plain": [
       "              timestamp  value\n",
       "360 2024-12-15 18:47:00  477.0\n",
       "361 2024-12-15 18:48:00  477.0\n",
       "362 2024-12-15 18:49:00  477.0\n",
       "363 2024-12-15 18:50:00  477.0\n",
       "364 2024-12-15 18:51:00  477.0"
      ]
     },
     "execution_count": 46,
     "metadata": {},
     "output_type": "execute_result"
    }
   ],
   "source": [
    "pred_df.head()"
   ]
  },
  {
   "cell_type": "markdown",
   "metadata": {},
   "source": [
    "### Unsupervised Novelty Detection using the Local Outlier Factor (LOF)"
   ]
  },
  {
   "cell_type": "markdown",
   "metadata": {},
   "source": [
    "Novelty detection is commonly applied in scenarios where you have a set of \"normal\" data without any anomalies, and the objective is to identify \"new\" or \"novel\" data points that deviate from this normal model. It does not assume contamination in the training data, meaning it presumes the reference data used to learn the normal behavior is free of outliers. Novelty detection is useful in contexts where the notion of \"novel\" is relative to a known baseline of normal and is applied as new data comes in.\n",
    "\n",
    "Note that this is different from outlier detection where the assumption is that the dataset you are working with is mostly clean but may contain some outliers."
   ]
  },
  {
   "cell_type": "code",
   "execution_count": 53,
   "metadata": {},
   "outputs": [],
   "source": [
    "from sklearn.neighbors import LocalOutlierFactor"
   ]
  },
  {
   "cell_type": "code",
   "execution_count": 48,
   "metadata": {},
   "outputs": [],
   "source": [
    "clf = LocalOutlierFactor(n_neighbors=2, novelty=True)\n",
    "clf.fit(ref_df[\"value\"].values.reshape(-1, 1))\n",
    "pred_df[\"novelty\"] = clf.predict(pred_df[\"value\"].values.reshape(-1, 1))"
   ]
  },
  {
   "cell_type": "code",
   "execution_count": 49,
   "metadata": {},
   "outputs": [
    {
     "data": {
      "image/png": "[encoded data removed]",
      "text/plain": [
       "<Figure size 1100x600 with 1 Axes>"
      ]
     },
     "metadata": {},
     "output_type": "display_data"
    }
   ],
   "source": [
    "# Plotting\n",
    "plt.figure(figsize=(11, 6))\n",
    "\n",
    "# Plot normal points\n",
    "plt.scatter(\n",
    "    pred_df[\"timestamp\"][pred_df[\"novelty\"] == 1],\n",
    "    pred_df[\"value\"][pred_df[\"novelty\"] == 1],\n",
    "    label=\"Normal\",\n",
    "    c=\"blue\",\n",
    "    marker=\"o\",\n",
    ")\n",
    "\n",
    "# Plot outliers\n",
    "plt.scatter(\n",
    "    pred_df[\"timestamp\"][pred_df[\"novelty\"] == -1],\n",
    "    pred_df[\"value\"][pred_df[\"novelty\"] == -1],\n",
    "    label=\"Outlier\",\n",
    "    c=\"red\",\n",
    "    marker=\"x\",\n",
    ")\n",
    "\n",
    "plt.xlabel(\"Timestamp\")\n",
    "plt.ylabel(\"Value\")\n",
    "plt.title(\"Novelty Detection Results\")\n",
    "plt.legend()\n",
    "plt.grid(True)\n",
    "\n",
    "plt.xticks(rotation=45)\n",
    "plt.tight_layout()\n",
    "plt.show()"
   ]
  },
  {
   "cell_type": "code",
   "execution_count": null,
   "metadata": {},
   "outputs": [],
   "source": []
  }
 ],
 "metadata": {
  "kernelspec": {
   "display_name": ".venv",
   "language": "python",
   "name": "python3"
  },
  "language_info": {
   "codemirror_mode": {
    "name": "ipython",
    "version": 3
   },
   "file_extension": ".py",
   "mimetype": "text/x-python",
   "name": "python",
   "nbconvert_exporter": "python",
   "pygments_lexer": "ipython3",
   "version": "3.9.1"
  }
 },
 "nbformat": 4,
 "nbformat_minor": 2
}
